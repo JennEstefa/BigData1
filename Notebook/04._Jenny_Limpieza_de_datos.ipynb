{
 "cells": [
  {
   "cell_type": "markdown",
   "metadata": {},
   "source": [
    "#LIMPIEZA DE DATOS"
   ]
  },
  {
   "cell_type": "code",
   "execution_count": null,
   "metadata": {},
   "outputs": [],
   "source": []
  },
  {
   "cell_type": "code",
   "execution_count": 2,
   "metadata": {},
   "outputs": [],
   "source": [
    "import pandas as pd\n",
    "import os\n",
    "import numpy as np\n",
    "from pathlib import Path\n",
    "from dateutil.parser import parse\n",
    "\n",
    "def main():\n",
    "\n",
    "    filename  = \"llamadas123_julio_2022.csv\"\n",
    "    # leer archivo\n",
    "    data = get_data(filename = filename)\n",
    "    # extraer resumen\n",
    "    df_resumen = get_summary(data)\n",
    "    # garde el resumen\n",
    "    save_data(df_resumen, filename)\n",
    "\n"
   ]
  },
  {
   "cell_type": "code",
   "execution_count": 3,
   "metadata": {},
   "outputs": [],
   "source": [
    "def save_data(df, filename):\n",
    "    #Guardar la tabla\n",
    "\n",
    "    out_name = 'Etl_Limpieza_' + filename\n",
    "    root_dir = Path(\".\").resolve()\n",
    "    out_path = os.path.join(root_dir, 'data', 'processed', out_name)\n",
    "    #print(out_path)\n",
    "\n",
    "    df.to_csv(out_path)\n",
    "\n"
   ]
  },
  {
   "cell_type": "code",
   "execution_count": 4,
   "metadata": {},
   "outputs": [],
   "source": [
    "def get_summary(data):\n",
    "    # Craer unn diccionario vacio\n",
    "    dict_resume= dict()\n",
    "\n",
    "    "
   ]
  },
  {
   "cell_type": "code",
   "execution_count": 8,
   "metadata": {},
   "outputs": [
    {
     "ename": "NameError",
     "evalue": "name 'data' is not defined",
     "output_type": "error",
     "traceback": [
      "\u001b[1;31m---------------------------------------------------------------------------\u001b[0m",
      "\u001b[1;31mNameError\u001b[0m                                 Traceback (most recent call last)",
      "\u001b[1;32mc:\\Users\\jeste\\OneDrive\\Escritorio\\BigData1\\Notebook\\04._Jenny_Limpieza_de_datos.ipynb Celda 6\u001b[0m in \u001b[0;36m<cell line: 6>\u001b[1;34m()\u001b[0m\n\u001b[0;32m      <a href='vscode-notebook-cell:/c%3A/Users/jeste/OneDrive/Escritorio/BigData1/Notebook/04._Jenny_Limpieza_de_datos.ipynb#W6sZmlsZQ%3D%3D?line=0'>1</a>\u001b[0m \u001b[39mdef\u001b[39;00m \u001b[39mget_summary\u001b[39m(data):\n\u001b[0;32m      <a href='vscode-notebook-cell:/c%3A/Users/jeste/OneDrive/Escritorio/BigData1/Notebook/04._Jenny_Limpieza_de_datos.ipynb#W6sZmlsZQ%3D%3D?line=1'>2</a>\u001b[0m     \u001b[39m# Craer unn diccionario vacio\u001b[39;00m\n\u001b[0;32m      <a href='vscode-notebook-cell:/c%3A/Users/jeste/OneDrive/Escritorio/BigData1/Notebook/04._Jenny_Limpieza_de_datos.ipynb#W6sZmlsZQ%3D%3D?line=2'>3</a>\u001b[0m     dict_resume\u001b[39m=\u001b[39m \u001b[39mdict\u001b[39m()\n\u001b[1;32m----> <a href='vscode-notebook-cell:/c%3A/Users/jeste/OneDrive/Escritorio/BigData1/Notebook/04._Jenny_Limpieza_de_datos.ipynb#W6sZmlsZQ%3D%3D?line=5'>6</a>\u001b[0m \u001b[39mfor\u001b[39;00m col \u001b[39min\u001b[39;00m data\u001b[39m.\u001b[39mcolumnas:\n\u001b[0;32m      <a href='vscode-notebook-cell:/c%3A/Users/jeste/OneDrive/Escritorio/BigData1/Notebook/04._Jenny_Limpieza_de_datos.ipynb#W6sZmlsZQ%3D%3D?line=7'>8</a>\u001b[0m         data \u001b[39m=\u001b[39m data\u001b[39m.\u001b[39mdrop_duplicates()\n\u001b[0;32m     <a href='vscode-notebook-cell:/c%3A/Users/jeste/OneDrive/Escritorio/BigData1/Notebook/04._Jenny_Limpieza_de_datos.ipynb#W6sZmlsZQ%3D%3D?line=9'>10</a>\u001b[0m         data \u001b[39m=\u001b[39m data\u001b[39m.\u001b[39mfillna({\u001b[39m'\u001b[39m\u001b[39mUNIDAD\u001b[39m\u001b[39m'\u001b[39m: \u001b[39m'\u001b[39m\u001b[39mSIN_DATO\u001b[39m\u001b[39m'\u001b[39m})\n",
      "\u001b[1;31mNameError\u001b[0m: name 'data' is not defined"
     ]
    }
   ],
   "source": [
    "def get_summary(data):\n",
    "    # Craer unn diccionario vacio\n",
    "    dict_resume= dict()\n",
    "\n",
    "\n",
    "for col in data.columnas:\n",
    "\n",
    "        data = data.drop_duplicates()\n",
    "\n",
    "        data = data.fillna({'UNIDAD': 'SIN_DATO'})\n",
    "\n",
    "        col = 'FECHA_INICIO_DESPLAZAMIENTO_MOVIL'\n",
    "        data[col] = pd.to_datetime(data[col], errors='coerce')\n",
    "            \n",
    "        data['RECEPCION'] = pd.to_datetime(data['RECEPCION'], errors='coerce')\n",
    "\n",
    "        data['EDAD'] = data['EDAD'].replace({'SIN_DATO' : np.nan})\n",
    "\n",
    "        f = lambda x: x if pd.isna(x) == True else int(x)\n",
    "        data['EDAD'] = data['EDAD'].apply(f)\n",
    "\n",
    "       \n",
    "\n",
    "        "
   ]
  },
  {
   "cell_type": "code",
   "execution_count": 9,
   "metadata": {},
   "outputs": [
    {
     "ename": "IndentationError",
     "evalue": "unexpected indent (1100297389.py, line 3)",
     "output_type": "error",
     "traceback": [
      "\u001b[1;36m  Input \u001b[1;32mIn [9]\u001b[1;36m\u001b[0m\n\u001b[1;33m    df.loc[df['CODIGO_LOCALIDAD']==1,'LOCALIDAD']='Usaquen'\u001b[0m\n\u001b[1;37m    ^\u001b[0m\n\u001b[1;31mIndentationError\u001b[0m\u001b[1;31m:\u001b[0m unexpected indent\n"
     ]
    }
   ],
   "source": [
    " df = pd.DataFrame(data,columns=['CODIGO_LOCALIDAD','LOCALIDAD'])\n",
    "\n",
    "        df.loc[df['CODIGO_LOCALIDAD']==1,'LOCALIDAD']='Usaquen'\n",
    "        df.loc[df['CODIGO_LOCALIDAD']==2,'LOCALIDAD']='Chapinero'\n",
    "        df.loc[df['CODIGO_LOCALIDAD']==3,'LOCALIDAD']='Santa Fe'\n",
    "        df.loc[df['CODIGO_LOCALIDAD']==4,'LOCALIDAD']='San Cristobal'\n",
    "        df.loc[df['CODIGO_LOCALIDAD']==5,'LOCALIDAD']='Usme'\n",
    "        df.loc[df['CODIGO_LOCALIDAD']==6,'LOCALIDAD']='Tunjuelito'\n",
    "        df.loc[df['CODIGO_LOCALIDAD']==9,'LOCALIDAD']='Fontibon'\n",
    "        df.loc[df['CODIGO_LOCALIDAD']==10,'LOCALIDAD']='Engativa'\n",
    "        df.loc[df['CODIGO_LOCALIDAD']==14,'LOCALIDAD']='Los Martires'\n",
    "        df.loc[df['CODIGO_LOCALIDAD']==15,'LOCALIDAD']='Antonio Nariño'\n",
    "        df.loc[df['CODIGO_LOCALIDAD']==19,'LOCALIDAD']='Ciudad Bolivar'\n",
    "\n",
    "        data['LOCALIDAD'] = df['LOCALIDAD']\n",
    "\n",
    "        df_resumen = data"
   ]
  },
  {
   "cell_type": "code",
   "execution_count": 10,
   "metadata": {},
   "outputs": [
    {
     "ename": "SyntaxError",
     "evalue": "'return' outside function (2842770609.py, line 1)",
     "output_type": "error",
     "traceback": [
      "\u001b[1;36m  Input \u001b[1;32mIn [10]\u001b[1;36m\u001b[0m\n\u001b[1;33m    return df_resumen\u001b[0m\n\u001b[1;37m    ^\u001b[0m\n\u001b[1;31mSyntaxError\u001b[0m\u001b[1;31m:\u001b[0m 'return' outside function\n"
     ]
    }
   ],
   "source": [
    "return df_resumen\n",
    "\n",
    "def get_data(filename):\n",
    "    data_dir = \"raw\"\n",
    "    root_dir = Path(\".\").resolve()\n",
    "    file_path = os.path.join(root_dir, \"data\", data_dir, filename)\n",
    "\n",
    "    data = pd.read_csv(file_path, encoding='latin-1', sep=';')\n",
    "    #print(data.shape)\n",
    "    return data\n",
    "\n",
    "if __name__ == '__main__':\n",
    "    main()"
   ]
  },
  {
   "cell_type": "code",
   "execution_count": null,
   "metadata": {},
   "outputs": [],
   "source": []
  }
 ],
 "metadata": {
  "kernelspec": {
   "display_name": "Python 3.9.12 ('base')",
   "language": "python",
   "name": "python3"
  },
  "language_info": {
   "codemirror_mode": {
    "name": "ipython",
    "version": 3
   },
   "file_extension": ".py",
   "mimetype": "text/x-python",
   "name": "python",
   "nbconvert_exporter": "python",
   "pygments_lexer": "ipython3",
   "version": "3.9.12"
  },
  "orig_nbformat": 4,
  "vscode": {
   "interpreter": {
    "hash": "c816f09c8469c306ef9ccff1bcd1382a95460c9efb7a3215dc81d3070083b132"
   }
  }
 },
 "nbformat": 4,
 "nbformat_minor": 2
}
