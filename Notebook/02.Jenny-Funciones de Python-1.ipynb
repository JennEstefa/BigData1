{
 "cells": [
  {
   "cell_type": "markdown",
   "metadata": {},
   "source": [
    "Funciones en Python"
   ]
  },
  {
   "cell_type": "code",
   "execution_count": 6,
   "metadata": {},
   "outputs": [],
   "source": [
    "# Funcion f(x, y, z) = x + y + z\n",
    "\n",
    "def f(x, y, z):\n",
    "    resultado = x + y +z\n",
    "\n",
    "    return resultado"
   ]
  },
  {
   "cell_type": "code",
   "execution_count": 5,
   "metadata": {},
   "outputs": [],
   "source": [
    "f(x=5, y=3,z=-2)"
   ]
  },
  {
   "cell_type": "markdown",
   "metadata": {},
   "source": [
    "##Pseudo Codigo"
   ]
  },
  {
   "cell_type": "markdown",
   "metadata": {},
   "source": [
    "* pipeline\n",
    "\n",
    "llamadasXXX.csv--<>get_summary--save_data----resumen_llamadasXXX.csv"
   ]
  },
  {
   "cell_type": "markdown",
   "metadata": {},
   "source": [
    "def main()\n",
    "    get_data()\n",
    "    get_summary()\n",
    "    save_data()"
   ]
  },
  {
   "cell_type": "code",
   "execution_count": 9,
   "metadata": {},
   "outputs": [],
   "source": [
    "# Quiero una funcion que me calcule:\n",
    "\n",
    "#1. la suma de todos los numeros de una lista\n",
    "# 2. minimo valor de la lista\n",
    "# 3. maximo valor de la lista\n",
    "# 4. la media y la desviacion estandar"
   ]
  },
  {
   "cell_type": "code",
   "execution_count": 86,
   "metadata": {},
   "outputs": [],
   "source": [
    "\n",
    "import numpy as np\n",
    "\n",
    "def calcular_min_max(lista_numeros, verbose=True):\n",
    "\n",
    "    '''\n",
    "\n",
    "    Retorna los valores minimo y maximo de una de lista de numeros\n",
    "\n",
    "    Args:\n",
    "\n",
    "        lista_numeros: type list\n",
    "\n",
    "    '''\n",
    "\n",
    "    min_value = min(lista_numeros)\n",
    "\n",
    "    max_value = max(lista_numeros)\n",
    "\n",
    "    \n",
    "\n",
    "    if verbose == True:\n",
    "\n",
    "        print('Valor minimo:', min_value)\n",
    "\n",
    "        print('Valor maximo:', max_value)\n",
    "\n",
    "    else:\n",
    "\n",
    "        pass\n",
    "\n",
    "    return min_value, max_value\n",
    "\n",
    "def calcular_valores_centrales(lista_numeros, verbose=True):\n",
    "    \n",
    "    \"\"\"Calcula la media y la deviacion estandar de una lisra de numeros\n",
    "\n",
    "    Args:\n",
    "\n",
    "        lista_numeros(list): Lista con valores numericos \n",
    "        Verebose (bool, optional): para decidir si imprimir mensajes \n",
    "    Returns:\n",
    "        tuple: (media, dev_std)\n",
    "    \"\"\"\n",
    "\n",
    "\n",
    "    media   = np.mean(lista_numeros)\n",
    "    dev_std = np.std(lista_numeros)\n",
    "    \n",
    "\n",
    "    if verbose == True:\n",
    "\n",
    "        print('Media:', media)\n",
    "\n",
    "        print('Desviacion Estandar:', dev_std)\n",
    "\n",
    "    else:\n",
    "\n",
    "        pass\n",
    "\n",
    "        return media, dev_std\n",
    "\n",
    "def calcular_valores(lista_numeros, verbose=True):\n",
    "\n",
    "    #suma = calcular_suma(lista_numeros)\n",
    "    min_val, max_val = calcular_min_max(lista_numeros, verbose)\n",
    "    media, dev_std = calcular_valores_centrales(lista_numeros)\n",
    "\n",
    "    #return suma, min_val, maz_val, media, dev_std"
   ]
  },
  {
   "cell_type": "code",
   "execution_count": 85,
   "metadata": {},
   "outputs": [
    {
     "name": "stdout",
     "output_type": "stream",
     "text": [
      "Valor minimo: 4\n",
      "Valor maximo: 21\n",
      "Media: 9.4\n",
      "Desviacion Estandar: 6.086049621881176\n"
     ]
    },
    {
     "ename": "TypeError",
     "evalue": "cannot unpack non-iterable NoneType object",
     "output_type": "error",
     "traceback": [
      "\u001b[1;31m---------------------------------------------------------------------------\u001b[0m",
      "\u001b[1;31mTypeError\u001b[0m                                 Traceback (most recent call last)",
      "\u001b[1;32mc:\\Users\\jeste\\OneDrive\\Escritorio\\BigData1\\Notebook\\02.Jenny-Funciones de Python-1.ipynb Celda 9\u001b[0m in \u001b[0;36m<cell line: 3>\u001b[1;34m()\u001b[0m\n\u001b[0;32m      <a href='vscode-notebook-cell:/c%3A/Users/jeste/OneDrive/Escritorio/BigData1/Notebook/02.Jenny-Funciones%20de%20Python-1.ipynb#X24sZmlsZQ%3D%3D?line=0'>1</a>\u001b[0m Lista_valores \u001b[39m=\u001b[39m [\u001b[39m5\u001b[39m, \u001b[39m4\u001b[39m, \u001b[39m8\u001b[39m, \u001b[39m9\u001b[39m, \u001b[39m21\u001b[39m]\n\u001b[1;32m----> <a href='vscode-notebook-cell:/c%3A/Users/jeste/OneDrive/Escritorio/BigData1/Notebook/02.Jenny-Funciones%20de%20Python-1.ipynb#X24sZmlsZQ%3D%3D?line=2'>3</a>\u001b[0m calcular_valores(lista_numeros\u001b[39m=\u001b[39;49mlista_valores, verbose\u001b[39m=\u001b[39;49m\u001b[39mTrue\u001b[39;49;00m)\n",
      "\u001b[1;32mc:\\Users\\jeste\\OneDrive\\Escritorio\\BigData1\\Notebook\\02.Jenny-Funciones de Python-1.ipynb Celda 9\u001b[0m in \u001b[0;36mcalcular_valores\u001b[1;34m(lista_numeros, verbose)\u001b[0m\n\u001b[0;32m     <a href='vscode-notebook-cell:/c%3A/Users/jeste/OneDrive/Escritorio/BigData1/Notebook/02.Jenny-Funciones%20de%20Python-1.ipynb#X24sZmlsZQ%3D%3D?line=53'>54</a>\u001b[0m min_val, max_val \u001b[39m=\u001b[39m calcular_min_max(lista_numeros, verbose)\n\u001b[0;32m     <a href='vscode-notebook-cell:/c%3A/Users/jeste/OneDrive/Escritorio/BigData1/Notebook/02.Jenny-Funciones%20de%20Python-1.ipynb#X24sZmlsZQ%3D%3D?line=54'>55</a>\u001b[0m \u001b[39m#min_val, max_val = calcular_min_max(lista_numeros)\u001b[39;00m\n\u001b[1;32m---> <a href='vscode-notebook-cell:/c%3A/Users/jeste/OneDrive/Escritorio/BigData1/Notebook/02.Jenny-Funciones%20de%20Python-1.ipynb#X24sZmlsZQ%3D%3D?line=55'>56</a>\u001b[0m media, dev_std \u001b[39m=\u001b[39m calcular_valores_centrales(lista_numeros)\n",
      "\u001b[1;31mTypeError\u001b[0m: cannot unpack non-iterable NoneType object"
     ]
    }
   ],
   "source": [
    "Lista_valores = [5, 4, 8, 9, 21]\n",
    "\n",
    "calcular_valores(lista_numeros=lista_valores, verbose=True)"
   ]
  },
  {
   "cell_type": "markdown",
   "metadata": {},
   "source": []
  }
 ],
 "metadata": {
  "kernelspec": {
   "display_name": "Python 3.9.12",
   "language": "python",
   "name": "python3"
  },
  "language_info": {
   "codemirror_mode": {
    "name": "ipython",
    "version": 3
   },
   "file_extension": ".py",
   "mimetype": "text/x-python",
   "name": "python",
   "nbconvert_exporter": "python",
   "pygments_lexer": "ipython3",
   "version": "3.9.12"
  },
  "orig_nbformat": 4,
  "vscode": {
   "interpreter": {
    "hash": "ad2bdc8ecc057115af97d19610ffacc2b4e99fae6737bb82f5d7fb13d2f2c186"
   }
  }
 },
 "nbformat": 4,
 "nbformat_minor": 2
}
