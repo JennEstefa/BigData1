{
 "cells": [
  {
   "cell_type": "markdown",
   "metadata": {},
   "source": [
    "#EDA para limpieza de datos"
   ]
  },
  {
   "cell_type": "code",
   "execution_count": 27,
   "metadata": {},
   "outputs": [
    {
     "name": "stdout",
     "output_type": "stream",
     "text": [
      "root dir: C:\\Users\\jeste\\OneDrive\\Escritorio\\BigData1\n",
      "C:\\Users\\jeste\\OneDrive\\Escritorio\\BigData1\\Data\\raw1\\Llamadas123_julio_2022.csv\n"
     ]
    }
   ],
   "source": [
    "# importar librerias de manipulacion de datos.\n",
    "\n",
    "import numpy as np\n",
    "import pandas as pd\n",
    "\n",
    "# Importar librerias del sistema\n",
    "\n",
    "import os\n",
    "from pathlib import Path \n",
    "\n",
    "root_dir= Path(\".\").resolve().parent\n",
    "print('root dir:', root_dir)\n",
    "\n",
    "filename= \"Llamadas123_julio_2022.csv\"\n",
    "data_dir= \"raw1\"\n",
    "\n",
    "file_path = os.path.join(root_dir,\"Data\",data_dir, filename)\n",
    "\n",
    "print(file_path)\n",
    "\n",
    "data = pd.read_csv(file_path, encoding='latin-1',sep=';')"
   ]
  },
  {
   "cell_type": "code",
   "execution_count": 28,
   "metadata": {},
   "outputs": [
    {
     "data": {
      "text/html": [
       "<div>\n",
       "<style scoped>\n",
       "    .dataframe tbody tr th:only-of-type {\n",
       "        vertical-align: middle;\n",
       "    }\n",
       "\n",
       "    .dataframe tbody tr th {\n",
       "        vertical-align: top;\n",
       "    }\n",
       "\n",
       "    .dataframe thead th {\n",
       "        text-align: right;\n",
       "    }\n",
       "</style>\n",
       "<table border=\"1\" class=\"dataframe\">\n",
       "  <thead>\n",
       "    <tr style=\"text-align: right;\">\n",
       "      <th></th>\n",
       "      <th>NUMERO_INCIDENTE</th>\n",
       "      <th>FECHA_INICIO_DESPLAZAMIENTO_MOVIL</th>\n",
       "      <th>CODIGO_LOCALIDAD</th>\n",
       "      <th>LOCALIDAD</th>\n",
       "      <th>EDAD</th>\n",
       "      <th>UNIDAD</th>\n",
       "      <th>GENERO</th>\n",
       "      <th>RED</th>\n",
       "      <th>TIPO_INCIDENTE</th>\n",
       "      <th>PRIORIDAD</th>\n",
       "      <th>RECEPCION</th>\n",
       "    </tr>\n",
       "  </thead>\n",
       "  <tbody>\n",
       "    <tr>\n",
       "      <th>0</th>\n",
       "      <td>CRU-00278353-22</td>\n",
       "      <td>2022-07-01 00:08:59</td>\n",
       "      <td>11</td>\n",
       "      <td>Suba</td>\n",
       "      <td>88</td>\n",
       "      <td>A¤os</td>\n",
       "      <td>FEMENINO</td>\n",
       "      <td>Norte</td>\n",
       "      <td>Accidente Cerebro Vascular</td>\n",
       "      <td>ALTA</td>\n",
       "      <td>2022-07-01 03:40:13</td>\n",
       "    </tr>\n",
       "    <tr>\n",
       "      <th>1</th>\n",
       "      <td>CRU-00278360-22</td>\n",
       "      <td>2022-07-01 00:14:58</td>\n",
       "      <td>11</td>\n",
       "      <td>Suba</td>\n",
       "      <td>16</td>\n",
       "      <td>A¤os</td>\n",
       "      <td>MASCULINO</td>\n",
       "      <td>Norte</td>\n",
       "      <td>Herido</td>\n",
       "      <td>ALTA</td>\n",
       "      <td>2022-07-01 03:38:13</td>\n",
       "    </tr>\n",
       "    <tr>\n",
       "      <th>2</th>\n",
       "      <td>CRU-00278365-22</td>\n",
       "      <td>2022-07-01 00:21:59</td>\n",
       "      <td>18</td>\n",
       "      <td>Rafael Uribe Uribe</td>\n",
       "      <td>52</td>\n",
       "      <td>A¤os</td>\n",
       "      <td>FEMENINO</td>\n",
       "      <td>Centro Oriente</td>\n",
       "      <td>Evento Respiratorio</td>\n",
       "      <td>CRITICA</td>\n",
       "      <td>2022-07-01 04:08:24</td>\n",
       "    </tr>\n",
       "    <tr>\n",
       "      <th>3</th>\n",
       "      <td>CRU-00278370-22</td>\n",
       "      <td>2022-07-01 00:38:38</td>\n",
       "      <td>19</td>\n",
       "      <td>Ciudad Bol¡var</td>\n",
       "      <td>SIN_DATO</td>\n",
       "      <td>SIN_DATO</td>\n",
       "      <td>SIN_DATO</td>\n",
       "      <td>Privada</td>\n",
       "      <td>Herido</td>\n",
       "      <td>ALTA</td>\n",
       "      <td>0000-00-00 00:00:00</td>\n",
       "    </tr>\n",
       "    <tr>\n",
       "      <th>4</th>\n",
       "      <td>CRU-00278372-22</td>\n",
       "      <td>2022-07-01 00:53:32</td>\n",
       "      <td>1</td>\n",
       "      <td>Usaqun</td>\n",
       "      <td>33</td>\n",
       "      <td>A¤os</td>\n",
       "      <td>MASCULINO</td>\n",
       "      <td>Norte</td>\n",
       "      <td>Intento de Suicidio</td>\n",
       "      <td>ALTA</td>\n",
       "      <td>2022-07-01 03:25:29</td>\n",
       "    </tr>\n",
       "  </tbody>\n",
       "</table>\n",
       "</div>"
      ],
      "text/plain": [
       "  NUMERO_INCIDENTE FECHA_INICIO_DESPLAZAMIENTO_MOVIL  CODIGO_LOCALIDAD  \\\n",
       "0  CRU-00278353-22               2022-07-01 00:08:59                11   \n",
       "1  CRU-00278360-22               2022-07-01 00:14:58                11   \n",
       "2  CRU-00278365-22               2022-07-01 00:21:59                18   \n",
       "3  CRU-00278370-22               2022-07-01 00:38:38                19   \n",
       "4  CRU-00278372-22               2022-07-01 00:53:32                 1   \n",
       "\n",
       "            LOCALIDAD      EDAD    UNIDAD     GENERO             RED  \\\n",
       "0                Suba        88      A¤os   FEMENINO           Norte   \n",
       "1                Suba        16      A¤os  MASCULINO           Norte   \n",
       "2  Rafael Uribe Uribe        52      A¤os   FEMENINO  Centro Oriente   \n",
       "3      Ciudad Bol¡var  SIN_DATO  SIN_DATO   SIN_DATO         Privada   \n",
       "4             Usaqun        33      A¤os  MASCULINO           Norte   \n",
       "\n",
       "               TIPO_INCIDENTE PRIORIDAD            RECEPCION  \n",
       "0  Accidente Cerebro Vascular      ALTA  2022-07-01 03:40:13  \n",
       "1                      Herido      ALTA  2022-07-01 03:38:13  \n",
       "2         Evento Respiratorio   CRITICA  2022-07-01 04:08:24  \n",
       "3                      Herido      ALTA  0000-00-00 00:00:00  \n",
       "4         Intento de Suicidio      ALTA  2022-07-01 03:25:29  "
      ]
     },
     "execution_count": 28,
     "metadata": {},
     "output_type": "execute_result"
    }
   ],
   "source": [
    "data.head()"
   ]
  },
  {
   "cell_type": "markdown",
   "metadata": {},
   "source": [
    "# Registros Duplicados"
   ]
  },
  {
   "cell_type": "code",
   "execution_count": 29,
   "metadata": {},
   "outputs": [
    {
     "name": "stdout",
     "output_type": "stream",
     "text": [
      "Forma inicial (13055, 11)\n",
      "Forma final (13026, 11)\n"
     ]
    }
   ],
   "source": [
    "print(\"Forma inicial\", data.shape)\n",
    "\n",
    "#Elimina los registros duplicados dejando solo el primer registro.\n",
    "data = data.drop_duplicates()\n",
    "\n",
    "print(\"Forma final\", data.shape)"
   ]
  },
  {
   "cell_type": "code",
   "execution_count": 30,
   "metadata": {},
   "outputs": [
    {
     "name": "stdout",
     "output_type": "stream",
     "text": [
      "<class 'pandas.core.frame.DataFrame'>\n",
      "Int64Index: 13026 entries, 0 to 13054\n",
      "Data columns (total 11 columns):\n",
      " #   Column                             Non-Null Count  Dtype \n",
      "---  ------                             --------------  ----- \n",
      " 0   NUMERO_INCIDENTE                   13026 non-null  object\n",
      " 1   FECHA_INICIO_DESPLAZAMIENTO_MOVIL  13026 non-null  object\n",
      " 2   CODIGO_LOCALIDAD                   13026 non-null  int64 \n",
      " 3   LOCALIDAD                          13026 non-null  object\n",
      " 4   EDAD                               13026 non-null  object\n",
      " 5   UNIDAD                             13018 non-null  object\n",
      " 6   GENERO                             13026 non-null  object\n",
      " 7   RED                                13026 non-null  object\n",
      " 8   TIPO_INCIDENTE                     13026 non-null  object\n",
      " 9   PRIORIDAD                          13026 non-null  object\n",
      " 10  RECEPCION                          13026 non-null  object\n",
      "dtypes: int64(1), object(10)\n",
      "memory usage: 1.2+ MB\n"
     ]
    }
   ],
   "source": [
    "# Esquema de la tabla \n",
    "data.info()"
   ]
  },
  {
   "cell_type": "code",
   "execution_count": 31,
   "metadata": {},
   "outputs": [
    {
     "data": {
      "text/plain": [
       "A¤os        6781\n",
       "SIN_DATO    6187\n",
       "Meses         39\n",
       "NaN            8\n",
       "Horas          6\n",
       "Dias           5\n",
       "Name: UNIDAD, dtype: int64"
      ]
     },
     "execution_count": 31,
     "metadata": {},
     "output_type": "execute_result"
    }
   ],
   "source": [
    "from sqlalchemy import false\n",
    "\n",
    "\n",
    "data[\"UNIDAD\"].value_counts(dropna=False) # realiza un conteo de la informacion "
   ]
  },
  {
   "cell_type": "code",
   "execution_count": 76,
   "metadata": {},
   "outputs": [
    {
     "ename": "SyntaxError",
     "evalue": "invalid syntax (1250732519.py, line 3)",
     "output_type": "error",
     "traceback": [
      "\u001b[1;36m  Input \u001b[1;32mIn [76]\u001b[1;36m\u001b[0m\n\u001b[1;33m    .value_counts(dropna=False) ##llena los campos EL FILLNA\u001b[0m\n\u001b[1;37m    ^\u001b[0m\n\u001b[1;31mSyntaxError\u001b[0m\u001b[1;31m:\u001b[0m invalid syntax\n"
     ]
    }
   ],
   "source": [
    "# Reemplace en la columna UNIDAD los nulos por SIN DATOS\n",
    "\n",
    ".value_counts(dropna=False) ##llena los campos EL FILLNA"
   ]
  },
  {
   "cell_type": "code",
   "execution_count": 77,
   "metadata": {},
   "outputs": [],
   "source": [
    "#Reemplazo la columna UNIDAD que tenia nulos por una columna nueva sin nulos\n",
    "\n",
    "data[\"UNIDAD\"] = data[\"UNIDAD\"].fillna(\"SIN_DATO\")"
   ]
  },
  {
   "cell_type": "code",
   "execution_count": 75,
   "metadata": {},
   "outputs": [
    {
     "name": "stdout",
     "output_type": "stream",
     "text": [
      "<class 'pandas.core.frame.DataFrame'>\n",
      "RangeIndex: 13026 entries, 0 to 13025\n",
      "Data columns (total 13 columns):\n",
      " #   Column                             Non-Null Count  Dtype         \n",
      "---  ------                             --------------  -----         \n",
      " 0   index                              13026 non-null  int64         \n",
      " 1   NUMERO_INCIDENTE                   13026 non-null  object        \n",
      " 2   FECHA_INICIO_DESPLAZAMIENTO_MOVIL  13026 non-null  object        \n",
      " 3   CODIGO_LOCALIDAD                   13026 non-null  int64         \n",
      " 4   LOCALIDAD                          13026 non-null  object        \n",
      " 5   EDAD                               13026 non-null  object        \n",
      " 6   UNIDAD                             13018 non-null  object        \n",
      " 7   GENERO                             13026 non-null  object        \n",
      " 8   RED                                13026 non-null  object        \n",
      " 9   TIPO_INCIDENTE                     13026 non-null  object        \n",
      " 10  PRIORIDAD                          13026 non-null  object        \n",
      " 11  RECEPCION                          13026 non-null  object        \n",
      " 12  RECEPCION_CORREGIDA                5259 non-null   datetime64[ns]\n",
      "dtypes: datetime64[ns](1), int64(2), object(10)\n",
      "memory usage: 1.3+ MB\n"
     ]
    }
   ],
   "source": [
    "data.info()"
   ]
  },
  {
   "cell_type": "code",
   "execution_count": 74,
   "metadata": {},
   "outputs": [
    {
     "data": {
      "text/plain": [
       "'2022-08-08 11:23:01'"
      ]
     },
     "execution_count": 74,
     "metadata": {},
     "output_type": "execute_result"
    }
   ],
   "source": [
    "# Manipulacion de fechas (datetime)\n",
    "\n",
    "col = \"FECHA_INICIO_DESPLAZAMIENTO_MOVIL\"\n",
    "data[col].max()"
   ]
  },
  {
   "cell_type": "code",
   "execution_count": 78,
   "metadata": {},
   "outputs": [
    {
     "data": {
      "text/html": [
       "<div>\n",
       "<style scoped>\n",
       "    .dataframe tbody tr th:only-of-type {\n",
       "        vertical-align: middle;\n",
       "    }\n",
       "\n",
       "    .dataframe tbody tr th {\n",
       "        vertical-align: top;\n",
       "    }\n",
       "\n",
       "    .dataframe thead th {\n",
       "        text-align: right;\n",
       "    }\n",
       "</style>\n",
       "<table border=\"1\" class=\"dataframe\">\n",
       "  <thead>\n",
       "    <tr style=\"text-align: right;\">\n",
       "      <th></th>\n",
       "      <th>index</th>\n",
       "      <th>NUMERO_INCIDENTE</th>\n",
       "      <th>FECHA_INICIO_DESPLAZAMIENTO_MOVIL</th>\n",
       "      <th>CODIGO_LOCALIDAD</th>\n",
       "      <th>LOCALIDAD</th>\n",
       "      <th>EDAD</th>\n",
       "      <th>UNIDAD</th>\n",
       "      <th>GENERO</th>\n",
       "      <th>RED</th>\n",
       "      <th>TIPO_INCIDENTE</th>\n",
       "      <th>PRIORIDAD</th>\n",
       "      <th>RECEPCION</th>\n",
       "      <th>RECEPCION_CORREGIDA</th>\n",
       "    </tr>\n",
       "  </thead>\n",
       "  <tbody>\n",
       "    <tr>\n",
       "      <th>13025</th>\n",
       "      <td>13054</td>\n",
       "      <td>CRU-00312775-22</td>\n",
       "      <td>0000-00-00 00:00:00</td>\n",
       "      <td>9</td>\n",
       "      <td>Fontib¢n</td>\n",
       "      <td>SIN_DATO</td>\n",
       "      <td>SIN_DATO</td>\n",
       "      <td>SIN_DATO</td>\n",
       "      <td>Sur Occidente</td>\n",
       "      <td>Accidente Cerebro Vascular</td>\n",
       "      <td>ALTA</td>\n",
       "      <td>0000-00-00 00:00:00</td>\n",
       "      <td>NaT</td>\n",
       "    </tr>\n",
       "  </tbody>\n",
       "</table>\n",
       "</div>"
      ],
      "text/plain": [
       "       index NUMERO_INCIDENTE FECHA_INICIO_DESPLAZAMIENTO_MOVIL  \\\n",
       "13025  13054  CRU-00312775-22               0000-00-00 00:00:00   \n",
       "\n",
       "       CODIGO_LOCALIDAD LOCALIDAD      EDAD    UNIDAD    GENERO  \\\n",
       "13025                 9  Fontib¢n  SIN_DATO  SIN_DATO  SIN_DATO   \n",
       "\n",
       "                 RED              TIPO_INCIDENTE PRIORIDAD  \\\n",
       "13025  Sur Occidente  Accidente Cerebro Vascular      ALTA   \n",
       "\n",
       "                 RECEPCION RECEPCION_CORREGIDA  \n",
       "13025  0000-00-00 00:00:00                 NaT  "
      ]
     },
     "execution_count": 78,
     "metadata": {},
     "output_type": "execute_result"
    }
   ],
   "source": [
    "#Aplicar filtros\n",
    "\n",
    "val_min = data[col].min()\n",
    "data[data[col] == val_min] ##aplico el filtro"
   ]
  },
  {
   "cell_type": "code",
   "execution_count": 79,
   "metadata": {},
   "outputs": [
    {
     "data": {
      "text/html": [
       "<div>\n",
       "<style scoped>\n",
       "    .dataframe tbody tr th:only-of-type {\n",
       "        vertical-align: middle;\n",
       "    }\n",
       "\n",
       "    .dataframe tbody tr th {\n",
       "        vertical-align: top;\n",
       "    }\n",
       "\n",
       "    .dataframe thead th {\n",
       "        text-align: right;\n",
       "    }\n",
       "</style>\n",
       "<table border=\"1\" class=\"dataframe\">\n",
       "  <thead>\n",
       "    <tr style=\"text-align: right;\">\n",
       "      <th></th>\n",
       "      <th>index</th>\n",
       "      <th>NUMERO_INCIDENTE</th>\n",
       "      <th>FECHA_INICIO_DESPLAZAMIENTO_MOVIL</th>\n",
       "      <th>CODIGO_LOCALIDAD</th>\n",
       "      <th>LOCALIDAD</th>\n",
       "      <th>EDAD</th>\n",
       "      <th>UNIDAD</th>\n",
       "      <th>GENERO</th>\n",
       "      <th>RED</th>\n",
       "      <th>TIPO_INCIDENTE</th>\n",
       "      <th>PRIORIDAD</th>\n",
       "      <th>RECEPCION</th>\n",
       "      <th>RECEPCION_CORREGIDA</th>\n",
       "    </tr>\n",
       "  </thead>\n",
       "  <tbody>\n",
       "    <tr>\n",
       "      <th>0</th>\n",
       "      <td>0</td>\n",
       "      <td>CRU-00278353-22</td>\n",
       "      <td>2022-07-01 00:08:59</td>\n",
       "      <td>11</td>\n",
       "      <td>Suba</td>\n",
       "      <td>88</td>\n",
       "      <td>A¤os</td>\n",
       "      <td>FEMENINO</td>\n",
       "      <td>Norte</td>\n",
       "      <td>Accidente Cerebro Vascular</td>\n",
       "      <td>ALTA</td>\n",
       "      <td>2022-07-01 03:40:13</td>\n",
       "      <td>2022-01-07 03:40:13</td>\n",
       "    </tr>\n",
       "    <tr>\n",
       "      <th>1</th>\n",
       "      <td>1</td>\n",
       "      <td>CRU-00278360-22</td>\n",
       "      <td>2022-07-01 00:14:58</td>\n",
       "      <td>11</td>\n",
       "      <td>Suba</td>\n",
       "      <td>16</td>\n",
       "      <td>A¤os</td>\n",
       "      <td>MASCULINO</td>\n",
       "      <td>Norte</td>\n",
       "      <td>Herido</td>\n",
       "      <td>ALTA</td>\n",
       "      <td>2022-07-01 03:38:13</td>\n",
       "      <td>2022-01-07 03:38:13</td>\n",
       "    </tr>\n",
       "    <tr>\n",
       "      <th>2</th>\n",
       "      <td>2</td>\n",
       "      <td>CRU-00278365-22</td>\n",
       "      <td>2022-07-01 00:21:59</td>\n",
       "      <td>18</td>\n",
       "      <td>Rafael Uribe Uribe</td>\n",
       "      <td>52</td>\n",
       "      <td>A¤os</td>\n",
       "      <td>FEMENINO</td>\n",
       "      <td>Centro Oriente</td>\n",
       "      <td>Evento Respiratorio</td>\n",
       "      <td>CRITICA</td>\n",
       "      <td>2022-07-01 04:08:24</td>\n",
       "      <td>2022-01-07 04:08:24</td>\n",
       "    </tr>\n",
       "    <tr>\n",
       "      <th>3</th>\n",
       "      <td>3</td>\n",
       "      <td>CRU-00278370-22</td>\n",
       "      <td>2022-07-01 00:38:38</td>\n",
       "      <td>19</td>\n",
       "      <td>Ciudad Bol¡var</td>\n",
       "      <td>SIN_DATO</td>\n",
       "      <td>SIN_DATO</td>\n",
       "      <td>SIN_DATO</td>\n",
       "      <td>Privada</td>\n",
       "      <td>Herido</td>\n",
       "      <td>ALTA</td>\n",
       "      <td>0000-00-00 00:00:00</td>\n",
       "      <td>NaT</td>\n",
       "    </tr>\n",
       "    <tr>\n",
       "      <th>4</th>\n",
       "      <td>4</td>\n",
       "      <td>CRU-00278372-22</td>\n",
       "      <td>2022-07-01 00:53:32</td>\n",
       "      <td>1</td>\n",
       "      <td>Usaqun</td>\n",
       "      <td>33</td>\n",
       "      <td>A¤os</td>\n",
       "      <td>MASCULINO</td>\n",
       "      <td>Norte</td>\n",
       "      <td>Intento de Suicidio</td>\n",
       "      <td>ALTA</td>\n",
       "      <td>2022-07-01 03:25:29</td>\n",
       "      <td>2022-01-07 03:25:29</td>\n",
       "    </tr>\n",
       "    <tr>\n",
       "      <th>...</th>\n",
       "      <td>...</td>\n",
       "      <td>...</td>\n",
       "      <td>...</td>\n",
       "      <td>...</td>\n",
       "      <td>...</td>\n",
       "      <td>...</td>\n",
       "      <td>...</td>\n",
       "      <td>...</td>\n",
       "      <td>...</td>\n",
       "      <td>...</td>\n",
       "      <td>...</td>\n",
       "      <td>...</td>\n",
       "      <td>...</td>\n",
       "    </tr>\n",
       "    <tr>\n",
       "      <th>13020</th>\n",
       "      <td>13049</td>\n",
       "      <td>CRU-00314021-22</td>\n",
       "      <td>2022-08-02 03:25:08</td>\n",
       "      <td>14</td>\n",
       "      <td>Los M rtires</td>\n",
       "      <td>SIN_DATO</td>\n",
       "      <td>SIN_DATO</td>\n",
       "      <td>SIN_DATO</td>\n",
       "      <td>Centro Oriente</td>\n",
       "      <td>Acompa¤amiento Evento</td>\n",
       "      <td>BAJA</td>\n",
       "      <td>0000-00-00 00:00:00</td>\n",
       "      <td>NaT</td>\n",
       "    </tr>\n",
       "    <tr>\n",
       "      <th>13021</th>\n",
       "      <td>13050</td>\n",
       "      <td>CRU-00314021-22</td>\n",
       "      <td>2022-08-08 05:31:48</td>\n",
       "      <td>14</td>\n",
       "      <td>Los M rtires</td>\n",
       "      <td>18</td>\n",
       "      <td>A¤os</td>\n",
       "      <td>FEMENINO</td>\n",
       "      <td>Centro Oriente</td>\n",
       "      <td>Acompa¤amiento Evento</td>\n",
       "      <td>BAJA</td>\n",
       "      <td>8/08/2022 6:48</td>\n",
       "      <td>2022-08-08 06:48:00</td>\n",
       "    </tr>\n",
       "    <tr>\n",
       "      <th>13022</th>\n",
       "      <td>13051</td>\n",
       "      <td>CRU-00314021-22</td>\n",
       "      <td>2022-08-08 10:38:32</td>\n",
       "      <td>14</td>\n",
       "      <td>Los M rtires</td>\n",
       "      <td>SIN_DATO</td>\n",
       "      <td>SIN_DATO</td>\n",
       "      <td>SIN_DATO</td>\n",
       "      <td>Sur Occidente</td>\n",
       "      <td>Acompa¤amiento Evento</td>\n",
       "      <td>BAJA</td>\n",
       "      <td>0000-00-00 00:00:00</td>\n",
       "      <td>NaT</td>\n",
       "    </tr>\n",
       "    <tr>\n",
       "      <th>13023</th>\n",
       "      <td>13052</td>\n",
       "      <td>CRU-00314021-22</td>\n",
       "      <td>2022-08-08 11:23:01</td>\n",
       "      <td>10</td>\n",
       "      <td>Engativ</td>\n",
       "      <td>11</td>\n",
       "      <td>A¤os</td>\n",
       "      <td>MASCULINO</td>\n",
       "      <td>Centro Oriente</td>\n",
       "      <td>Acompa¤amiento Evento</td>\n",
       "      <td>BAJA</td>\n",
       "      <td>9/08/2022 13:13</td>\n",
       "      <td>2022-08-09 13:13:00</td>\n",
       "    </tr>\n",
       "    <tr>\n",
       "      <th>13024</th>\n",
       "      <td>13053</td>\n",
       "      <td>CRU-00314021-22</td>\n",
       "      <td>2022-08-08 11:23:01</td>\n",
       "      <td>10</td>\n",
       "      <td>Engativ</td>\n",
       "      <td>19</td>\n",
       "      <td>A¤os</td>\n",
       "      <td>FEMENINO</td>\n",
       "      <td>Centro Oriente</td>\n",
       "      <td>Acompa¤amiento Evento</td>\n",
       "      <td>BAJA</td>\n",
       "      <td>0000-00-00 00:00:00</td>\n",
       "      <td>NaT</td>\n",
       "    </tr>\n",
       "  </tbody>\n",
       "</table>\n",
       "<p>13025 rows × 13 columns</p>\n",
       "</div>"
      ],
      "text/plain": [
       "       index NUMERO_INCIDENTE FECHA_INICIO_DESPLAZAMIENTO_MOVIL  \\\n",
       "0          0  CRU-00278353-22               2022-07-01 00:08:59   \n",
       "1          1  CRU-00278360-22               2022-07-01 00:14:58   \n",
       "2          2  CRU-00278365-22               2022-07-01 00:21:59   \n",
       "3          3  CRU-00278370-22               2022-07-01 00:38:38   \n",
       "4          4  CRU-00278372-22               2022-07-01 00:53:32   \n",
       "...      ...              ...                               ...   \n",
       "13020  13049  CRU-00314021-22               2022-08-02 03:25:08   \n",
       "13021  13050  CRU-00314021-22               2022-08-08 05:31:48   \n",
       "13022  13051  CRU-00314021-22               2022-08-08 10:38:32   \n",
       "13023  13052  CRU-00314021-22               2022-08-08 11:23:01   \n",
       "13024  13053  CRU-00314021-22               2022-08-08 11:23:01   \n",
       "\n",
       "       CODIGO_LOCALIDAD           LOCALIDAD      EDAD    UNIDAD     GENERO  \\\n",
       "0                    11                Suba        88      A¤os   FEMENINO   \n",
       "1                    11                Suba        16      A¤os  MASCULINO   \n",
       "2                    18  Rafael Uribe Uribe        52      A¤os   FEMENINO   \n",
       "3                    19      Ciudad Bol¡var  SIN_DATO  SIN_DATO   SIN_DATO   \n",
       "4                     1             Usaqun        33      A¤os  MASCULINO   \n",
       "...                 ...                 ...       ...       ...        ...   \n",
       "13020                14        Los M rtires  SIN_DATO  SIN_DATO   SIN_DATO   \n",
       "13021                14        Los M rtires        18      A¤os   FEMENINO   \n",
       "13022                14        Los M rtires  SIN_DATO  SIN_DATO   SIN_DATO   \n",
       "13023                10            Engativ         11      A¤os  MASCULINO   \n",
       "13024                10            Engativ         19      A¤os   FEMENINO   \n",
       "\n",
       "                  RED              TIPO_INCIDENTE PRIORIDAD  \\\n",
       "0               Norte  Accidente Cerebro Vascular      ALTA   \n",
       "1               Norte                      Herido      ALTA   \n",
       "2      Centro Oriente         Evento Respiratorio   CRITICA   \n",
       "3             Privada                      Herido      ALTA   \n",
       "4               Norte         Intento de Suicidio      ALTA   \n",
       "...               ...                         ...       ...   \n",
       "13020  Centro Oriente       Acompa¤amiento Evento      BAJA   \n",
       "13021  Centro Oriente       Acompa¤amiento Evento      BAJA   \n",
       "13022   Sur Occidente       Acompa¤amiento Evento      BAJA   \n",
       "13023  Centro Oriente       Acompa¤amiento Evento      BAJA   \n",
       "13024  Centro Oriente       Acompa¤amiento Evento      BAJA   \n",
       "\n",
       "                 RECEPCION RECEPCION_CORREGIDA  \n",
       "0      2022-07-01 03:40:13 2022-01-07 03:40:13  \n",
       "1      2022-07-01 03:38:13 2022-01-07 03:38:13  \n",
       "2      2022-07-01 04:08:24 2022-01-07 04:08:24  \n",
       "3      0000-00-00 00:00:00                 NaT  \n",
       "4      2022-07-01 03:25:29 2022-01-07 03:25:29  \n",
       "...                    ...                 ...  \n",
       "13020  0000-00-00 00:00:00                 NaT  \n",
       "13021       8/08/2022 6:48 2022-08-08 06:48:00  \n",
       "13022  0000-00-00 00:00:00                 NaT  \n",
       "13023      9/08/2022 13:13 2022-08-09 13:13:00  \n",
       "13024  0000-00-00 00:00:00                 NaT  \n",
       "\n",
       "[13025 rows x 13 columns]"
      ]
     },
     "execution_count": 79,
     "metadata": {},
     "output_type": "execute_result"
    }
   ],
   "source": [
    "data[data[col] != val_min] # simbolo de exclamacion es operador "
   ]
  },
  {
   "cell_type": "code",
   "execution_count": 80,
   "metadata": {},
   "outputs": [],
   "source": [
    "# Formato de fechas (datetime--recibe un )\n",
    "data[col]: pd.to_datetime(data[col], errors=\"coerce\")"
   ]
  },
  {
   "cell_type": "code",
   "execution_count": 81,
   "metadata": {},
   "outputs": [
    {
     "name": "stdout",
     "output_type": "stream",
     "text": [
      "<class 'pandas.core.frame.DataFrame'>\n",
      "RangeIndex: 13026 entries, 0 to 13025\n",
      "Data columns (total 13 columns):\n",
      " #   Column                             Non-Null Count  Dtype         \n",
      "---  ------                             --------------  -----         \n",
      " 0   index                              13026 non-null  int64         \n",
      " 1   NUMERO_INCIDENTE                   13026 non-null  object        \n",
      " 2   FECHA_INICIO_DESPLAZAMIENTO_MOVIL  13026 non-null  object        \n",
      " 3   CODIGO_LOCALIDAD                   13026 non-null  int64         \n",
      " 4   LOCALIDAD                          13026 non-null  object        \n",
      " 5   EDAD                               13026 non-null  object        \n",
      " 6   UNIDAD                             13026 non-null  object        \n",
      " 7   GENERO                             13026 non-null  object        \n",
      " 8   RED                                13026 non-null  object        \n",
      " 9   TIPO_INCIDENTE                     13026 non-null  object        \n",
      " 10  PRIORIDAD                          13026 non-null  object        \n",
      " 11  RECEPCION                          13026 non-null  object        \n",
      " 12  RECEPCION_CORREGIDA                5259 non-null   datetime64[ns]\n",
      "dtypes: datetime64[ns](1), int64(2), object(10)\n",
      "memory usage: 1.3+ MB\n"
     ]
    }
   ],
   "source": [
    "data.info()"
   ]
  },
  {
   "cell_type": "code",
   "execution_count": 33,
   "metadata": {},
   "outputs": [
    {
     "data": {
      "text/plain": [
       "datetime.datetime(2021, 8, 2, 0, 0)"
      ]
     },
     "execution_count": 33,
     "metadata": {},
     "output_type": "execute_result"
    }
   ],
   "source": [
    "\n",
    "from dateutil.parser import parse\n",
    "\n",
    "parse(\"08/02/2021\")\n",
    "#pd.to_datatime[\"RECEPCION\"], errors=\"coercce\", format=\"%Y-%m-\""
   ]
  },
  {
   "cell_type": "code",
   "execution_count": 34,
   "metadata": {},
   "outputs": [
    {
     "data": {
      "text/plain": [
       "datetime.datetime(2021, 8, 2, 17, 30)"
      ]
     },
     "execution_count": 34,
     "metadata": {},
     "output_type": "execute_result"
    }
   ],
   "source": [
    "parse(\"08/02/2021 5:30 pm\")"
   ]
  },
  {
   "cell_type": "code",
   "execution_count": 36,
   "metadata": {},
   "outputs": [
    {
     "data": {
      "text/plain": [
       "0        2022-07-01 03:40:13\n",
       "1        2022-07-01 03:38:13\n",
       "2        2022-07-01 04:08:24\n",
       "3        0000-00-00 00:00:00\n",
       "4        2022-07-01 03:25:29\n",
       "                ...         \n",
       "13050         8/08/2022 6:48\n",
       "13051    0000-00-00 00:00:00\n",
       "13052        9/08/2022 13:13\n",
       "13053    0000-00-00 00:00:00\n",
       "13054    0000-00-00 00:00:00\n",
       "Name: RECEPCION, Length: 13026, dtype: object"
      ]
     },
     "execution_count": 36,
     "metadata": {},
     "output_type": "execute_result"
    }
   ],
   "source": [
    "data[\"RECEPCION\"]"
   ]
  },
  {
   "cell_type": "code",
   "execution_count": 47,
   "metadata": {},
   "outputs": [
    {
     "data": {
      "text/plain": [
       "datetime.datetime(2022, 8, 9, 13, 13)"
      ]
     },
     "execution_count": 47,
     "metadata": {},
     "output_type": "execute_result"
    }
   ],
   "source": [
    "#Funcion que reciba un string,con fechas y regrese un valor en datatime usando parse\n",
    "\n",
    "def convertir_formato_fecha (str_fecha):\n",
    "    val_datatime = parse(str_fecha, dayfirst=True, yearfirst=False)\n",
    "    return val_datatime\n",
    "\n",
    "parse(data[\"RECEPCION\"][13052], dayfirst=True)"
   ]
  },
  {
   "cell_type": "code",
   "execution_count": 56,
   "metadata": {},
   "outputs": [],
   "source": [
    "data = data.reset_index()"
   ]
  },
  {
   "cell_type": "code",
   "execution_count": 62,
   "metadata": {},
   "outputs": [],
   "source": [
    "list_fechas = list()\n",
    "n_filas =data.shape[0]          #len (data[\"RECEPCION\"])\n",
    "for i in range (0,n_filas):\n",
    "   \n",
    "    str_fecha = data[\"RECEPCION\"][i]\n",
    "\n",
    "    try:\n",
    "        val_datetime = convertir_formato_fecha(str_fecha=str_fecha)\n",
    "        list_fechas.append(val_datetime)\n",
    "\n",
    "    except Exception as e:\n",
    "        #print(i, e)\n",
    "        list_fechas.append(str_fecha)\n",
    "        continue\n",
    "   "
   ]
  },
  {
   "cell_type": "code",
   "execution_count": 63,
   "metadata": {},
   "outputs": [],
   "source": [
    "data[\"RECEPCION_CORREGIDA\"] = list_fechas"
   ]
  },
  {
   "cell_type": "code",
   "execution_count": 71,
   "metadata": {},
   "outputs": [],
   "source": [
    "\n",
    "data[\"RECEPCION_CORREGIDA\"] = pd.to_datetime(data[\"RECEPCION_CORREGIDA\"], errors=\"coerce\")\n"
   ]
  },
  {
   "cell_type": "code",
   "execution_count": 82,
   "metadata": {},
   "outputs": [
    {
     "name": "stdout",
     "output_type": "stream",
     "text": [
      "<class 'pandas.core.frame.DataFrame'>\n",
      "RangeIndex: 13026 entries, 0 to 13025\n",
      "Data columns (total 13 columns):\n",
      " #   Column                             Non-Null Count  Dtype         \n",
      "---  ------                             --------------  -----         \n",
      " 0   index                              13026 non-null  int64         \n",
      " 1   NUMERO_INCIDENTE                   13026 non-null  object        \n",
      " 2   FECHA_INICIO_DESPLAZAMIENTO_MOVIL  13026 non-null  object        \n",
      " 3   CODIGO_LOCALIDAD                   13026 non-null  int64         \n",
      " 4   LOCALIDAD                          13026 non-null  object        \n",
      " 5   EDAD                               13026 non-null  object        \n",
      " 6   UNIDAD                             13026 non-null  object        \n",
      " 7   GENERO                             13026 non-null  object        \n",
      " 8   RED                                13026 non-null  object        \n",
      " 9   TIPO_INCIDENTE                     13026 non-null  object        \n",
      " 10  PRIORIDAD                          13026 non-null  object        \n",
      " 11  RECEPCION                          13026 non-null  object        \n",
      " 12  RECEPCION_CORREGIDA                5259 non-null   datetime64[ns]\n",
      "dtypes: datetime64[ns](1), int64(2), object(10)\n",
      "memory usage: 1.3+ MB\n"
     ]
    }
   ],
   "source": [
    "data.info()"
   ]
  },
  {
   "cell_type": "markdown",
   "metadata": {},
   "source": [
    "# Consistencia de los Datos"
   ]
  },
  {
   "cell_type": "code",
   "execution_count": 83,
   "metadata": {},
   "outputs": [
    {
     "data": {
      "text/plain": [
       "SIN_DATO    6187\n",
       "23           150\n",
       "22           140\n",
       "30           134\n",
       "27           134\n",
       "            ... \n",
       "7             17\n",
       "98            16\n",
       "9             15\n",
       "8             14\n",
       "97            12\n",
       "Name: EDAD, Length: 100, dtype: int64"
      ]
     },
     "execution_count": 83,
     "metadata": {},
     "output_type": "execute_result"
    }
   ],
   "source": [
    "data[\"EDAD\"].value_counts(dropna=False)"
   ]
  },
  {
   "cell_type": "code",
   "execution_count": 89,
   "metadata": {},
   "outputs": [
    {
     "data": {
      "text/plain": [
       "nan"
      ]
     },
     "execution_count": 89,
     "metadata": {},
     "output_type": "execute_result"
    }
   ],
   "source": [
    "# Reemplazar SIN_DATO por un NUlO d etipo numerico\n",
    "#data[\"EDAD\"].replace({\"SIN_DATO\": np.nan}).value_counts(dropna=False)\n",
    "\n",
    "data[\"EDAD\"] = data[\"EDAD\"].replace({\"SIN_DATO\": np.nan})\n",
    "np.nan"
   ]
  },
  {
   "cell_type": "code",
   "execution_count": 102,
   "metadata": {},
   "outputs": [
    {
     "data": {
      "text/plain": [
       "5"
      ]
     },
     "execution_count": 102,
     "metadata": {},
     "output_type": "execute_result"
    }
   ],
   "source": [
    "# funciones Lambda\n",
    "\n",
    "from re import X\n",
    "\n",
    "\n",
    "x=\"5\"\n",
    "\n",
    "f = lambda x: x if pd.isna(x) == True else int(x)\n",
    "\n",
    "f(x)\n"
   ]
  },
  {
   "cell_type": "code",
   "execution_count": 104,
   "metadata": {},
   "outputs": [],
   "source": [
    "data[\"EDAD\"] = data[\"EDAD\"].apply(f)"
   ]
  },
  {
   "cell_type": "code",
   "execution_count": 105,
   "metadata": {},
   "outputs": [
    {
     "name": "stdout",
     "output_type": "stream",
     "text": [
      "<class 'pandas.core.frame.DataFrame'>\n",
      "RangeIndex: 13026 entries, 0 to 13025\n",
      "Data columns (total 13 columns):\n",
      " #   Column                             Non-Null Count  Dtype         \n",
      "---  ------                             --------------  -----         \n",
      " 0   index                              13026 non-null  int64         \n",
      " 1   NUMERO_INCIDENTE                   13026 non-null  object        \n",
      " 2   FECHA_INICIO_DESPLAZAMIENTO_MOVIL  13026 non-null  object        \n",
      " 3   CODIGO_LOCALIDAD                   13026 non-null  int64         \n",
      " 4   LOCALIDAD                          13026 non-null  object        \n",
      " 5   EDAD                               6839 non-null   float64       \n",
      " 6   UNIDAD                             13026 non-null  object        \n",
      " 7   GENERO                             13026 non-null  object        \n",
      " 8   RED                                13026 non-null  object        \n",
      " 9   TIPO_INCIDENTE                     13026 non-null  object        \n",
      " 10  PRIORIDAD                          13026 non-null  object        \n",
      " 11  RECEPCION                          13026 non-null  object        \n",
      " 12  RECEPCION_CORREGIDA                5259 non-null   datetime64[ns]\n",
      "dtypes: datetime64[ns](1), float64(1), int64(2), object(9)\n",
      "memory usage: 1.3+ MB\n"
     ]
    }
   ],
   "source": [
    "data.info()"
   ]
  },
  {
   "cell_type": "code",
   "execution_count": 111,
   "metadata": {},
   "outputs": [
    {
     "name": "stdout",
     "output_type": "stream",
     "text": [
      "Big_Data big_data BIG_DATA\n"
     ]
    }
   ],
   "source": [
    "word = \"Big_Data\"\n",
    "print(word, word.lower(), word.upper())"
   ]
  },
  {
   "cell_type": "code",
   "execution_count": 113,
   "metadata": {},
   "outputs": [
    {
     "data": {
      "text/plain": [
       "Kennedy               1740\n",
       "Suba                  1323\n",
       "Engativ               1304\n",
       "Bosa                  1065\n",
       "Ciudad Bol¡var        1009\n",
       "Puente Aranda          742\n",
       "Fontib¢n               670\n",
       "Usaqun                667\n",
       "Rafael Uribe Uribe     601\n",
       "Usme                   597\n",
       "San Crist¢bal          595\n",
       "Chapinero              507\n",
       "Tunjuelito             391\n",
       "Barrios Unidos         389\n",
       "Los M rtires           379\n",
       "Teusaquillo            361\n",
       "Santa Fe               356\n",
       "Antonio Nari¤o         244\n",
       "La Candelaria           85\n",
       "Sumapaz                  1\n",
       "Name: LOCALIDAD, dtype: int64"
      ]
     },
     "execution_count": 113,
     "metadata": {},
     "output_type": "execute_result"
    }
   ],
   "source": [
    "data[\"LOCALIDAD\"].apply(lambda x: x.strip()).value_counts()"
   ]
  },
  {
   "cell_type": "code",
   "execution_count": null,
   "metadata": {},
   "outputs": [],
   "source": []
  }
 ],
 "metadata": {
  "kernelspec": {
   "display_name": "Python 3.9.12",
   "language": "python",
   "name": "python3"
  },
  "language_info": {
   "codemirror_mode": {
    "name": "ipython",
    "version": 3
   },
   "file_extension": ".py",
   "mimetype": "text/x-python",
   "name": "python",
   "nbconvert_exporter": "python",
   "pygments_lexer": "ipython3",
   "version": "3.9.12"
  },
  "orig_nbformat": 4,
  "vscode": {
   "interpreter": {
    "hash": "ad2bdc8ecc057115af97d19610ffacc2b4e99fae6737bb82f5d7fb13d2f2c186"
   }
  }
 },
 "nbformat": 4,
 "nbformat_minor": 2
}
